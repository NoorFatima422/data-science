{
  "nbformat": 4,
  "nbformat_minor": 0,
  "metadata": {
    "colab": {
      "provenance": [],
      "authorship_tag": "ABX9TyMgsuBQn/UT1cR0d8QSB5ws",
      "include_colab_link": true
    },
    "kernelspec": {
      "name": "python3",
      "display_name": "Python 3"
    },
    "language_info": {
      "name": "python"
    }
  },
  "cells": [
    {
      "cell_type": "markdown",
      "metadata": {
        "id": "view-in-github",
        "colab_type": "text"
      },
      "source": [
        "<a href=\"https://colab.research.google.com/github/NoorFatima422/data-science/blob/main/About_me.ipynb\" target=\"_parent\"><img src=\"https://colab.research.google.com/assets/colab-badge.svg\" alt=\"Open In Colab\"/></a>"
      ]
    },
    {
      "cell_type": "code",
      "execution_count": null,
      "metadata": {
        "id": "QHLaHkx4M_cK"
      },
      "outputs": [],
      "source": [
        "print(\"My hobby is to cry :>\")\n",
        "print(\"I love kitties\")\n",
        "print(\"I like making pastries\")\n",
        "print(\"I love my teacher and data science \")\n"
      ]
    }
  ]
}